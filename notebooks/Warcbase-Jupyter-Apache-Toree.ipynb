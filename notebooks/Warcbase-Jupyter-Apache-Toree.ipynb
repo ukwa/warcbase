{
 "cells": [
  {
   "cell_type": "code",
   "execution_count": 1,
   "metadata": {},
   "outputs": [
    {
     "data": {
      "text/plain": [
       "Array((www.archive.org,132), (deadlists.com,2), (www.hideout.com.br,1))"
      ]
     },
     "execution_count": 1,
     "metadata": {},
     "output_type": "execute_result"
    }
   ],
   "source": [
    "import org.warcbase.spark.matchbox._\n",
    "import org.warcbase.spark.rdd.RecordRDD._\n",
    "\n",
    "val r = RecordLoader.loadArchives(\"/warcbase-core/src/test/resources/arc/example.arc.gz\", sc).\n",
    "    keepValidPages().\n",
    "    map(r => ExtractDomain(r.getUrl)).\n",
    "    countItems().\n",
    "    take(10)\n",
    "\n",
    "r"
   ]
  },
  {
   "cell_type": "code",
   "execution_count": null,
   "metadata": {
    "collapsed": true
   },
   "outputs": [],
   "source": []
  }
 ],
 "metadata": {
  "kernelspec": {
   "display_name": "Apache Toree - Scala",
   "language": "scala",
   "name": "apache_toree_scala"
  },
  "language_info": {
   "file_extension": ".scala",
   "name": "scala",
   "version": "2.11.8"
  }
 },
 "nbformat": 4,
 "nbformat_minor": 2
}
