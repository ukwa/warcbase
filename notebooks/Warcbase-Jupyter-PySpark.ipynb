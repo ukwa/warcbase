{
 "cells": [
  {
   "cell_type": "code",
   "execution_count": 1,
   "metadata": {},
   "outputs": [],
   "source": [
    "import os\n",
    "from pyspark import SparkContext, SparkConf\n",
    "\n",
    "os.environ['PYSPARK_SUBMIT_ARGS'] = '--jars /warcbase-core/target/warcbase-core-0.1.0-SNAPSHOT-fatjar.jar pyspark-shell'\n",
    "\n",
    "conf = SparkConf().setAppName(\"warcbase-py\")\n",
    "sc = SparkContext(conf=conf)\n",
    "\n",
    "print(\"READY\")"
   ]
  },
  {
   "cell_type": "code",
   "execution_count": 48,
   "metadata": {},
   "outputs": [
    {
     "name": "stdout",
     "output_type": "stream",
     "text": [
      "[(u'deadlists.com', 2), (u'www.archive.org', 132), (u'www.hideout.com.br', 1)]\n"
     ]
    }
   ],
   "source": [
    "from urlparse import urlparse\n",
    "from operator import add\n",
    "\n",
    "path = \"/warcbase-core/src/test/resources/arc/example.arc.gz\"\n",
    "\n",
    "# This hooks in our archive file reader:\n",
    "rdd = sc.newAPIHadoopFile(\n",
    "        path,\n",
    "        \"org.warcbase.mapreduce.WacArcInputFormat\",\n",
    "        \"org.apache.hadoop.io.LongWritable\",\n",
    "        \"org.warcbase.io.ArcRecordWritable\",\n",
    "        valueConverter=\"org.warcbase.spark.pythonconverters.ArcRecordWritableToHtmlConverter\", \n",
    "        conf=None)\n",
    "\n",
    "# Note that we do not support the built-in keepValidPages as that's in the Scala extensions\n",
    "# So, we re-implement here:\n",
    "def keepValidPages(r):\n",
    "    # Strip out empty records, ones without dates or robots.txt files:\n",
    "    if r == None or r['date'] == None or r['url'].endswith(\"/robots.txt\"):\n",
    "        return False\n",
    "    # Filter in based on allowed mime-types and URL patterns:\n",
    "    if r['mime-type'] == \"text/html\" or r['mime-type'] == \"application/xhtml+xml\":\n",
    "        return True\n",
    "    elif r['url'].endswith(\"htm\") or r['url'].endswith(\"html\"):\n",
    "        return True\n",
    "    else:\n",
    "        return False\n",
    "\n",
    "# Filter the pages and extract the hostnames:\n",
    "r = rdd.filter(lambda x: keepValidPages(x[1])).map(lambda x: urlparse(x[1]['url']).hostname)\n",
    "\n",
    "# Now reduce so as to count frequency:\n",
    "r = r.map(lambda x: (x, 1)).reduceByKey(add)\n",
    "\n",
    "# Collect the results:\n",
    "results = r.collect()\n",
    "\n",
    "print(results)"
   ]
  },
  {
   "cell_type": "code",
   "execution_count": 50,
   "metadata": {},
   "outputs": [
    {
     "name": "stdout",
     "output_type": "stream",
     "text": [
      "Collecting plotly\n",
      "  Downloading plotly-2.0.7.tar.gz (923kB)\n",
      "\u001b[K    100% |████████████████████████████████| 931kB 365kB/s ta 0:00:01\n",
      "\u001b[?25hRequirement already satisfied: decorator in /opt/conda/envs/python2/lib/python2.7/site-packages (from plotly)\n",
      "Requirement already satisfied: nbformat>=4.2 in /opt/conda/envs/python2/lib/python2.7/site-packages (from plotly)\n",
      "Requirement already satisfied: pytz in /opt/conda/envs/python2/lib/python2.7/site-packages (from plotly)\n",
      "Requirement already satisfied: requests in /opt/conda/envs/python2/lib/python2.7/site-packages (from plotly)\n",
      "Requirement already satisfied: six in /opt/conda/envs/python2/lib/python2.7/site-packages (from plotly)\n",
      "Requirement already satisfied: ipython-genutils in /opt/conda/envs/python2/lib/python2.7/site-packages (from nbformat>=4.2->plotly)\n",
      "Requirement already satisfied: jsonschema!=2.5.0,>=2.4 in /opt/conda/envs/python2/lib/python2.7/site-packages (from nbformat>=4.2->plotly)\n",
      "Requirement already satisfied: traitlets>=4.1 in /opt/conda/envs/python2/lib/python2.7/site-packages (from nbformat>=4.2->plotly)\n",
      "Requirement already satisfied: jupyter-core in /opt/conda/envs/python2/lib/python2.7/site-packages (from nbformat>=4.2->plotly)\n",
      "Requirement already satisfied: functools32; python_version == \"2.7\" in /opt/conda/envs/python2/lib/python2.7/site-packages (from jsonschema!=2.5.0,>=2.4->nbformat>=4.2->plotly)\n",
      "Requirement already satisfied: enum34; python_version == \"2.7\" in /opt/conda/envs/python2/lib/python2.7/site-packages (from traitlets>=4.1->nbformat>=4.2->plotly)\n",
      "Building wheels for collected packages: plotly\n",
      "  Running setup.py bdist_wheel for plotly ... \u001b[?25ldone\n",
      "\u001b[?25h  Stored in directory: /home/jovyan/.cache/pip/wheels/83/86/c0/37a6cf53adca47bb03240f069c4348cea99f9e6f159948ee91\n",
      "Successfully built plotly\n",
      "Installing collected packages: plotly\n",
      "Successfully installed plotly-2.0.7\n"
     ]
    }
   ],
   "source": [
    "!pip install plotly\n"
   ]
  },
  {
   "cell_type": "code",
   "execution_count": 58,
   "metadata": {},
   "outputs": [
    {
     "data": {
      "text/html": [
       "<script>requirejs.config({paths: { 'plotly': ['https://cdn.plot.ly/plotly-latest.min']},});if(!window.Plotly) {{require(['plotly'],function(plotly) {window.Plotly=plotly;});}}</script>"
      ],
      "text/vnd.plotly.v1+html": [
       "<script>requirejs.config({paths: { 'plotly': ['https://cdn.plot.ly/plotly-latest.min']},});if(!window.Plotly) {{require(['plotly'],function(plotly) {window.Plotly=plotly;});}}</script>"
      ]
     },
     "metadata": {},
     "output_type": "display_data"
    },
    {
     "data": {
      "application/vnd.plotly.v1+json": {
       "data": [
        {
         "labels": [
          "deadlists.com",
          "www.archive.org",
          "www.hideout.com.br"
         ],
         "type": "pie",
         "values": [
          2,
          132,
          1
         ]
        }
       ],
       "layout": {}
      },
      "text/html": [
       "<div id=\"f6f67220-ef16-4115-b403-3a3d5356d76d\" style=\"height: 525px; width: 100%;\" class=\"plotly-graph-div\"></div><script type=\"text/javascript\">require([\"plotly\"], function(Plotly) { window.PLOTLYENV=window.PLOTLYENV || {};window.PLOTLYENV.BASE_URL=\"https://plot.ly\";Plotly.newPlot(\"f6f67220-ef16-4115-b403-3a3d5356d76d\", [{\"type\": \"pie\", \"labels\": [\"deadlists.com\", \"www.archive.org\", \"www.hideout.com.br\"], \"values\": [2, 132, 1]}], {}, {\"linkText\": \"Export to plot.ly\", \"showLink\": true})});</script>"
      ],
      "text/vnd.plotly.v1+html": [
       "<div id=\"f6f67220-ef16-4115-b403-3a3d5356d76d\" style=\"height: 525px; width: 100%;\" class=\"plotly-graph-div\"></div><script type=\"text/javascript\">require([\"plotly\"], function(Plotly) { window.PLOTLYENV=window.PLOTLYENV || {};window.PLOTLYENV.BASE_URL=\"https://plot.ly\";Plotly.newPlot(\"f6f67220-ef16-4115-b403-3a3d5356d76d\", [{\"type\": \"pie\", \"labels\": [\"deadlists.com\", \"www.archive.org\", \"www.hideout.com.br\"], \"values\": [2, 132, 1]}], {}, {\"linkText\": \"Export to plot.ly\", \"showLink\": true})});</script>"
      ]
     },
     "metadata": {},
     "output_type": "display_data"
    }
   ],
   "source": [
    "import plotly.offline as py\n",
    "import plotly.graph_objs as go\n",
    "\n",
    "py.init_notebook_mode(connected=True)\n",
    "\n",
    "labels=[]\n",
    "values=[]\n",
    "\n",
    "for host, count in results:\n",
    "    labels.append(host)\n",
    "    values.append(count)\n",
    "\n",
    "trace=go.Pie(labels=labels,values=values)\n",
    "\n",
    "py.iplot([trace], filename=\"temp\")\n"
   ]
  },
  {
   "cell_type": "code",
   "execution_count": null,
   "metadata": {
    "collapsed": true
   },
   "outputs": [],
   "source": []
  }
 ],
 "metadata": {
  "kernelspec": {
   "display_name": "Python 2",
   "language": "python",
   "name": "python2"
  },
  "language_info": {
   "codemirror_mode": {
    "name": "ipython",
    "version": 2
   },
   "file_extension": ".py",
   "mimetype": "text/x-python",
   "name": "python",
   "nbconvert_exporter": "python",
   "pygments_lexer": "ipython2",
   "version": "2.7.13"
  }
 },
 "nbformat": 4,
 "nbformat_minor": 2
}
